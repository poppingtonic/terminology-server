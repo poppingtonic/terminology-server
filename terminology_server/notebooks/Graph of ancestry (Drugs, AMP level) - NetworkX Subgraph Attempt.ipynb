{
 "cells": [
  {
   "cell_type": "code",
   "execution_count": 4,
   "metadata": {
    "collapsed": true
   },
   "outputs": [],
   "source": [
    "import os\n",
    "import re\n",
    "import requests\n",
    "from itertools import chain\n",
    "import networkx as nx\n",
    "from simplejson import loads, load,dumps,dump\n",
    "from requests.packages.urllib3.util.retry import Retry\n",
    "from requests.adapters import HTTPAdapter\n",
    "import uuid\n",
    "import gc"
   ]
  },
  {
   "cell_type": "code",
   "execution_count": 2,
   "metadata": {
    "collapsed": true
   },
   "outputs": [],
   "source": [
    "concept_by_id_list_api = \"http://snomed-20160731-release-server-2016-10-10.slade360emr.com/terminology/concept_list_by_id/\"\n",
    "\n",
    "headers = {'Expect': '100-Continue'}\n",
    "def get_concept_term_by_id_list(id_list):\n",
    "    \"\"\"Takes a list of valid SCTIDs and returns a dict mapping \n",
    "    {'<sctid>': <preferred_term>, '<sctid>': <preferred_term>, ...}\"\"\"\n",
    "    ids = ','.join(id_list)\n",
    "    try:\n",
    "        response = requests.post(concept_by_id_list_api,data={'sctid_list': ids}).text\n",
    "    except Exception as e:\n",
    "        print(\"Request failed at id {}. Retrying...\".format(id_list))\n",
    "        return get_concept_term_by_id_list(id_list)\n",
    "    try:\n",
    "        data = loads(response)\n",
    "    except Exception as e:\n",
    "        print(response)\n",
    "    return data"
   ]
  },
  {
   "cell_type": "code",
   "execution_count": 6,
   "metadata": {
    "collapsed": false
   },
   "outputs": [],
   "source": [
    "ADJACENCY_LIST_FILE='transitive_closure_adjacency_list.adjlist'\n",
    "if not os.path.isfile(ADJACENCY_LIST_FILE):\n",
    "    response=requests.get(\n",
    "       \"http://snomed-20160731-release-server-2016-10-10.slade360emr.com/terminology/relationships/transitive_closure/adjacency_list\"\n",
    "    )\n",
    "    with open(ADJACENCY_LIST_FILE, 'w') as file:\n",
    "        file.write(response.text)"
   ]
  },
  {
   "cell_type": "code",
   "execution_count": 11,
   "metadata": {
    "collapsed": false
   },
   "outputs": [
    {
     "data": {
      "text/plain": [
       "0"
      ]
     },
     "execution_count": 11,
     "metadata": {},
     "output_type": "execute_result"
    }
   ],
   "source": [
    "# Initialize an empty directed graph (digraph) and use \n",
    "# read_adjlist to read the downloaded file using the empty digraph.\n",
    "\n",
    "G=nx.DiGraph()\n",
    "DG = nx.read_adjlist(ADJACENCY_LIST_FILE, create_using=G)\n",
    "\n",
    "# get the ancestry graph of a single concept. This is where you'll enter the concept id that you want to investigate\n",
    "drug = '211000001101'\n",
    "\n",
    "def get_ancestry_graph(drug):\n",
    "    drug_ancestors = nx.ancestors(DG, drug)\n",
    "    ancestry_subgraph = DG.subgraph(drug_ancestors)\n",
    "    return ancestry_subgraph\n",
    "\n",
    "H = get_ancestry_graph(drug)\n",
    "# clear memory\n",
    "del DG\n",
    "gc.collect()"
   ]
  },
  {
   "cell_type": "code",
   "execution_count": 12,
   "metadata": {
    "collapsed": false
   },
   "outputs": [],
   "source": [
    "from networkx.drawing.nx_agraph import to_agraph\n",
    "from networkx.readwrite import json_graph\n",
    "from simplejson import dumps\n",
    "import matplotlib.pyplot as plt\n",
    "from networkx.drawing.nx_agraph import graphviz_layout\n",
    "from networkx.drawing.nx_pydot import pydot_layout\n",
    "from matplotlib import pylab\n",
    "\n",
    "def render_reversed_ancestry_graph(graph, file_name):\n",
    "    \"\"\"Reverses the ancestry graph of a SNOMED CT concept, and renders it as a SVG image.\"\"\"\n",
    "    leaf_nodes = [x for x in graph.nodes_iter() if graph.out_degree(x)==0]\n",
    "    graph.add_node(drug)\n",
    "    for node in leaf_nodes:\n",
    "        graph.add_edge(node, drug)\n",
    "    \n",
    "    reverse_graph = graph.reverse(copy=True)\n",
    "    \n",
    "    plt.figure(num=None, figsize=(30, 30), dpi=160)\n",
    "    plt.axis('off')\n",
    "    fig = plt.figure(1)\n",
    "    pos = pydot_layout(reverse_graph, prog='dot', format='svg')\n",
    "    node_names = get_concept_term_by_id_list(reverse_graph.nodes())\n",
    "    labeled_nodes = dict(zip(reverse_graph.nodes(), \n",
    "                             list(map(lambda x: node_names[x] + ' | {} |'.format(x), \n",
    "                                      reverse_graph.nodes()))))\n",
    "    \n",
    "    nx.draw_networkx_nodes(reverse_graph,pos)\n",
    "    nx.draw_networkx_edges(reverse_graph,pos)\n",
    "    \n",
    "    nx.draw_networkx_labels(reverse_graph,pos, labels=labeled_nodes)\n",
    "\n",
    "    cut = 1.2\n",
    "    xmax = cut * max(xx for xx, yy in pos.values())\n",
    "    ymax = cut * max(yy for xx, yy in pos.values())\n",
    "    plt.xlim(0, xmax)\n",
    "    plt.ylim(0, ymax)\n",
    "\n",
    "    plt.savefig(file_name,bbox_inches=\"tight\")\n",
    "    pylab.close()\n",
    "    del fig\n",
    "\n",
    "render_reversed_ancestry_graph(H, 'drug-sample-{}.svg'.format(uuid.uuid4()))"
   ]
  }
 ],
 "metadata": {
  "kernelspec": {
   "display_name": "Python 3",
   "language": "python",
   "name": "python3"
  },
  "language_info": {
   "codemirror_mode": {
    "name": "ipython",
    "version": 3
   },
   "file_extension": ".py",
   "mimetype": "text/x-python",
   "name": "python",
   "nbconvert_exporter": "python",
   "pygments_lexer": "ipython3",
   "version": "3.6.0"
  }
 },
 "nbformat": 4,
 "nbformat_minor": 2
}
