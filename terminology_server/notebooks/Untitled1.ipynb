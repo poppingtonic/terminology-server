{
 "cells": [
  {
   "cell_type": "code",
   "execution_count": 8,
   "metadata": {
    "collapsed": true
   },
   "outputs": [],
   "source": [
    "import networkx as nx\n",
    "import collections"
   ]
  },
  {
   "cell_type": "code",
   "execution_count": 2,
   "metadata": {
    "collapsed": true
   },
   "outputs": [],
   "source": [
    "import pylab as plt"
   ]
  },
  {
   "cell_type": "code",
   "execution_count": 3,
   "metadata": {
    "collapsed": true
   },
   "outputs": [],
   "source": [
    "g = nx.read_adjlist('con_graph.adjlist')"
   ]
  },
  {
   "cell_type": "code",
   "execution_count": 4,
   "metadata": {
    "collapsed": true
   },
   "outputs": [],
   "source": [
    "nx.draw_networkx(g, with_labels=True)\n",
    "plt.savefig('graph.png')"
   ]
  },
  {
   "cell_type": "code",
   "execution_count": 10,
   "metadata": {
    "collapsed": false
   },
   "outputs": [],
   "source": [
    "from snomedct_terminology_server.server.models import Concept\n",
    "adj_list = {}\n",
    "con=Concept.objects.raw('select id, get_rel_ids_from_json(ancestors) as ancestor_ids from snomed_denormalized_concept_view_for_current_snapshot where active=true limit 200')\n",
    "for c in con:\n",
    "    ancestors_deque=collections.deque(c.ancestor_ids)\n",
    "    ancestors_deque.appendleft(c.id)\n",
    "    adj_list.update({'%s' % c.id: list(ancestors_deque)})"
   ]
  },
  {
   "cell_type": "code",
   "execution_count": 11,
   "metadata": {
    "collapsed": false
   },
   "outputs": [
    {
     "data": {
      "text/plain": [
       "{'2935001': [2935001, 64572001, 138875005, 75478009, 404684003],\n",
       " '2938004': [2938004,\n",
       "  80382003,\n",
       "  300903003,\n",
       "  138875005,\n",
       "  105590001,\n",
       "  299979007,\n",
       "  441900009,\n",
       "  312413002,\n",
       "  116280007,\n",
       "  41175001,\n",
       "  312415009]}"
      ]
     },
     "execution_count": 11,
     "metadata": {},
     "output_type": "execute_result"
    }
   ],
   "source": [
    "adj_list"
   ]
  },
  {
   "cell_type": "code",
   "execution_count": null,
   "metadata": {
    "collapsed": true
   },
   "outputs": [],
   "source": []
  }
 ],
 "metadata": {
  "kernelspec": {
   "display_name": "Django Shell-Plus",
   "language": "python",
   "name": "django_extensions"
  },
  "language_info": {
   "codemirror_mode": {
    "name": "ipython",
    "version": 3
   },
   "file_extension": ".py",
   "mimetype": "text/x-python",
   "name": "python",
   "nbconvert_exporter": "python",
   "pygments_lexer": "ipython3",
   "version": "3.4.3"
  }
 },
 "nbformat": 4,
 "nbformat_minor": 0
}
