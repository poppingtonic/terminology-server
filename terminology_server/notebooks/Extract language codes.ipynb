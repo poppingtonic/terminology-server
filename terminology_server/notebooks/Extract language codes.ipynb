{
 "cells": [
  {
   "cell_type": "code",
   "execution_count": 27,
   "metadata": {
    "collapsed": false
   },
   "outputs": [
    {
     "name": "stderr",
     "output_type": "stream",
     "text": [
      "/home/brian/.envs/snomedct_terminology_server_venv/lib/python3.4/site-packages/bs4/__init__.py:181: UserWarning: No parser was explicitly specified, so I'm using the best available HTML parser for this system (\"html.parser\"). This usually isn't a problem, but if you run this code on another system, or in a different virtual environment, it may use a different parser and behave differently.\n",
      "\n",
      "The code that caused this warning is on line 170 of the file /usr/local/lib/python3.4/runpy.py. To get rid of this warning, change code that looks like this:\n",
      "\n",
      " BeautifulSoup([your markup])\n",
      "\n",
      "to this:\n",
      "\n",
      " BeautifulSoup([your markup], \"html.parser\")\n",
      "\n",
      "  markup_type=markup_type))\n"
     ]
    }
   ],
   "source": [
    "import requests\n",
    "from bs4 import BeautifulSoup\n",
    "from simplejson import dump\n",
    "\n",
    "url='https://www.loc.gov/standards/iso639-2/php/code_list.php'\n",
    "code_list_page=requests.get(url)\n",
    "\n",
    "# with open('code_list_table.txt', 'r') as f:\n",
    "#     code_list_table = f.read()\n",
    "# tables = BeautifulSoup(code_list_table)\n",
    "soup = BeautifulSoup(code_list_page.text)\n",
    "tables = soup.find_all('table')\n",
    "code_list_table = tables[1]\n",
    "\n",
    "code_list_map = {}\n",
    "for row in code_list_table.find_all('tr')[1:]:\n",
    "    col = row.find_all('td')\n",
    "    code = col[1].string.strip()\n",
    "    language = col[2].string.strip()\n",
    "    if code is not '':\n",
    "        code_list_map.update({code: language.split(';')[0]})\n",
    "        \n",
    "with open('iso_639_2.json', 'w') as f:\n",
    "    dump(code_list_map, f)"
   ]
  },
  {
   "cell_type": "code",
   "execution_count": null,
   "metadata": {
    "collapsed": true
   },
   "outputs": [],
   "source": []
  }
 ],
 "metadata": {
  "kernelspec": {
   "display_name": "Python 3",
   "language": "python",
   "name": "python3"
  },
  "language_info": {
   "codemirror_mode": {
    "name": "ipython",
    "version": 3
   },
   "file_extension": ".py",
   "mimetype": "text/x-python",
   "name": "python",
   "nbconvert_exporter": "python",
   "pygments_lexer": "ipython3",
   "version": "3.4.3"
  }
 },
 "nbformat": 4,
 "nbformat_minor": 0
}
