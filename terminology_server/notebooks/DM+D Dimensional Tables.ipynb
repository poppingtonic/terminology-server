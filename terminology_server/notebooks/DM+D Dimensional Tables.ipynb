{
 "cells": [
  {
   "cell_type": "markdown",
   "metadata": {},
   "source": [
    "# The SNOMED Graph\n",
    "## Reading Format\n",
    "The SNOMED Graph is designed as a Directed Acyclic Graph, with a single root node called the Root Concept, or `SNOMED CT Concept (SNOMED RT+CTV3) |138875005|`. Each concept in SNOMED is connected to one or more concepts through various types of relationships, such as `|Is a|`, `|Part of|`, `|Has AMP|` etc. as you'll see later on in this notebook. Due to its size, importance, and the computational difficulty of generating it, the `|Is a|` relationship subgraph (list of all `Is a` relationship pairs of the form `A |is a| B`) is denormalized to a format called the [`transitive closure`](https://en.wikipedia.org/wiki/Transitive_closure#In_graph_theory) of the `|Is a|` relationship subgraph. For example, if we have this relationship structure:\n",
    "\n",
    "+ ```A |is a| B```\n",
    "+ ```B |is a| C```\n",
    "+ ```C |is a| D```\n",
    "\n",
    "Then the transitive closure will look like this: \n",
    "\n",
    "*`[(A,B),(A,C),(A,D),(B,C),(B,D),(C,D)]`*.\n",
    "\n",
    "This data structure easily answers the question: `can I reach D from A by asking whether I can reach B from A, then asking whether I can reach C from B?`. If there's a tuple `(A,D)`, then the answer is yes. If the tuple doesn't exist, then the answer is No.\n",
    "\n",
    "This example graph, with three simple relationships, spawns a transitive closure with six connections. The SNOMED transitive closure has 15,592,960 connections between 903,389 concepts.\n",
    "\n",
    "In order to do anything relevant with SNOMED, such as collecting a list of drugs in the DM+D hierarchy (see below), we need this structure because it enables quick and efficient discovery of the local 'friends' of any given concept.\n",
    "\n",
    "To make it easier to download this data structure, we precomputed this transitive closure as an [adjacency list (click here if you don't know what that is)](networkx.readthedocs.io/en/latest/reference/readwrite.adjlist.html)  using the parent-child relationship, and stored it in a file that can be easily downloaded from the terminology server API. [This link points to the file](http://snomedct-terminology-server-2016-07-04.slade360emr.com/terminology/relationships/transitive_closure/adjacency_list), and will automatically start a download if you click on it. \n",
    "\n",
    "In the two cells below, we've downloaded the adjacency list using `requests`, and saved it to a file 'children_subsumption.adjlist'. The file extension `.adjlist` is just plain text, so there's no extra processing required."
   ]
  },
  {
   "cell_type": "code",
   "execution_count": null,
   "metadata": {
    "collapsed": true
   },
   "outputs": [],
   "source": [
    "import requests\n",
    "response=requests.get(\n",
    "   \"http://snomedct-terminology-server-2016-07-04.slade360emr.com/terminology/relationships/transitive_closure/adjacency_list\"\n",
    ")"
   ]
  },
  {
   "cell_type": "code",
   "execution_count": null,
   "metadata": {
    "collapsed": false
   },
   "outputs": [],
   "source": [
    "with open('transitive_closure_adjacency_list.adjlist', 'w') as f:\n",
    "   f.write(response.text)"
   ]
  },
  {
   "cell_type": "markdown",
   "metadata": {},
   "source": [
    "## Start here if you don't want to download the adjacency list again."
   ]
  },
  {
   "cell_type": "code",
   "execution_count": 2,
   "metadata": {
    "collapsed": true
   },
   "outputs": [],
   "source": [
    "import re\n",
    "import requests\n",
    "from itertools import chain\n",
    "import networkx as nx\n",
    "from simplejson import loads, load,dumps,dump\n",
    "from requests.packages.urllib3.util.retry import Retry\n",
    "from requests.adapters import HTTPAdapter"
   ]
  },
  {
   "cell_type": "code",
   "execution_count": 3,
   "metadata": {
    "collapsed": false
   },
   "outputs": [],
   "source": [
    "G=nx.DiGraph()\n",
    "DG = nx.read_adjlist('transitive_closure_adjacency_list.adjlist', create_using=G)"
   ]
  },
  {
   "cell_type": "code",
   "execution_count": 4,
   "metadata": {
    "collapsed": false
   },
   "outputs": [
    {
     "data": {
      "text/plain": [
       "904333"
      ]
     },
     "execution_count": 4,
     "metadata": {},
     "output_type": "execute_result"
    }
   ],
   "source": [
    "DG.number_of_nodes()"
   ]
  },
  {
   "cell_type": "code",
   "execution_count": null,
   "metadata": {
    "collapsed": false
   },
   "outputs": [],
   "source": [
    "DG.number_of_edges()"
   ]
  },
  {
   "cell_type": "markdown",
   "metadata": {},
   "source": [
    "### Child concepts of 'Actual medicinal product'. These are the Actual Medicinal Products in our drug hierarchy"
   ]
  },
  {
   "cell_type": "code",
   "execution_count": 5,
   "metadata": {
    "collapsed": false
   },
   "outputs": [],
   "source": [
    "amp_successors = DG.successors('10363901000001102')"
   ]
  },
  {
   "cell_type": "code",
   "execution_count": null,
   "metadata": {
    "collapsed": false
   },
   "outputs": [],
   "source": [
    "len(amp_successors)"
   ]
  },
  {
   "cell_type": "markdown",
   "metadata": {},
   "source": [
    "### DM+D Hierarchy identifiers - SCTIDs of AMP,AMPP,VMP,VTM,VMPP"
   ]
  },
  {
   "cell_type": "code",
   "execution_count": 6,
   "metadata": {
    "collapsed": true
   },
   "outputs": [],
   "source": [
    "amp=10363901000001102"
   ]
  },
  {
   "cell_type": "code",
   "execution_count": 7,
   "metadata": {
    "collapsed": true
   },
   "outputs": [],
   "source": [
    "vmpp=8653601000001108"
   ]
  },
  {
   "cell_type": "code",
   "execution_count": 8,
   "metadata": {
    "collapsed": true
   },
   "outputs": [],
   "source": [
    "vmp=10363801000001108"
   ]
  },
  {
   "cell_type": "code",
   "execution_count": 9,
   "metadata": {
    "collapsed": true
   },
   "outputs": [],
   "source": [
    "vtm=10363701000001104"
   ]
  },
  {
   "cell_type": "code",
   "execution_count": 10,
   "metadata": {
    "collapsed": true
   },
   "outputs": [],
   "source": [
    "# 10364001000001104\n",
    "ampp=10364001000001104"
   ]
  },
  {
   "cell_type": "code",
   "execution_count": 11,
   "metadata": {
    "collapsed": false
   },
   "outputs": [],
   "source": [
    "dmd_hierarchy_identifiers = ['10363901000001102', '8653601000001108', '10363801000001108', '10363701000001104', '10364001000001104']"
   ]
  },
  {
   "cell_type": "markdown",
   "metadata": {},
   "source": [
    "### Hierarchy identifiers for dm+d used in the creation of Dimension 1 (amp,vmp,vtm)"
   ]
  },
  {
   "cell_type": "code",
   "execution_count": 12,
   "metadata": {
    "collapsed": true
   },
   "outputs": [],
   "source": [
    "dimension_1_dmd_hierarchy_identifiers = ['10363901000001102', '10363801000001108', '10363701000001104']"
   ]
  },
  {
   "cell_type": "markdown",
   "metadata": {},
   "source": [
    "### Obtain the SCTIDs for the children of \"9191801000001103 |Trade family (product)|\", which aren't needed here"
   ]
  },
  {
   "cell_type": "code",
   "execution_count": 13,
   "metadata": {
    "collapsed": false
   },
   "outputs": [],
   "source": [
    "trade_family = DG.successors('9191801000001103')"
   ]
  },
  {
   "cell_type": "code",
   "execution_count": null,
   "metadata": {
    "collapsed": true
   },
   "outputs": [],
   "source": [
    "#### example using zinnat: 228011000001102\n",
    "#### get the 3 direct parents of \"228011000001102 |Zinnat 125mg tablets (GlaxoSmithKline) (product)|\""
   ]
  },
  {
   "cell_type": "code",
   "execution_count": null,
   "metadata": {
    "collapsed": false
   },
   "outputs": [],
   "source": [
    "zinnat_predecessors=DG.predecessors('228011000001102')"
   ]
  },
  {
   "cell_type": "code",
   "execution_count": null,
   "metadata": {
    "collapsed": false
   },
   "outputs": [],
   "source": [
    "non_trade_zinnat_predecessors = [x for x in zinnat_predecessors if x not in trade_family]"
   ]
  },
  {
   "cell_type": "code",
   "execution_count": null,
   "metadata": {
    "collapsed": false
   },
   "outputs": [],
   "source": [
    "non_dmd_predecessors_of_zinnat = [x for x in non_trade_zinnat_predecessors if x not in dimension_1_dmd_hierarchy_identifiers]"
   ]
  },
  {
   "cell_type": "code",
   "execution_count": null,
   "metadata": {
    "collapsed": false
   },
   "outputs": [],
   "source": [
    "# returns the only parent of zinnat in the drug hierarchy\n",
    "non_dmd_predecessors_of_zinnat"
   ]
  },
  {
   "cell_type": "markdown",
   "metadata": {},
   "source": [
    "#### The amp-vmp map is correct once we remove trade family hierarchy and dmd hierarchy identifiers from the predecessors list"
   ]
  },
  {
   "cell_type": "code",
   "execution_count": 14,
   "metadata": {
    "collapsed": true
   },
   "outputs": [],
   "source": [
    "amp_drugs_and_their_vmp_parents = []\n",
    "for amp_drug in amp_successors:\n",
    "    parents_of_amp = DG.predecessors(amp_drug)\n",
    "    for parent_of_amp in parents_of_amp:\n",
    "        if not  parent_of_amp in trade_family and not parent_of_amp in dmd_hierarchy_identifiers:\n",
    "            amp_drugs_and_their_vmp_parents.append({'amp': amp_drug, 'corresponding_vmp': parent_of_amp}) "
   ]
  },
  {
   "cell_type": "code",
   "execution_count": null,
   "metadata": {
    "collapsed": false
   },
   "outputs": [],
   "source": [
    "print(len(amp_drugs_and_their_vmp_parents))\n",
    "print(amp_drugs_and_their_vmp_parents[0])"
   ]
  },
  {
   "cell_type": "code",
   "execution_count": null,
   "metadata": {
    "collapsed": false
   },
   "outputs": [],
   "source": [
    "nx.ancestors(DG, '324506000')"
   ]
  },
  {
   "cell_type": "code",
   "execution_count": 15,
   "metadata": {
    "collapsed": false
   },
   "outputs": [],
   "source": [
    "pharma_sctid=373873005"
   ]
  },
  {
   "cell_type": "code",
   "execution_count": 16,
   "metadata": {
    "collapsed": false
   },
   "outputs": [],
   "source": [
    "# Get the children of \"Virtual Medicinal Product\"\n",
    "vmp_successors = DG.successors(str(vmp))\n",
    "vmp_successors[0]\n",
    "# get the children of \"Virtual Therapeutic Moiety\"\n",
    "vtm_successors = DG.successors(str(vtm))\n",
    "# get the children of \"Pharmaceutical/Biologic Product\"\n",
    "pharma_successors = DG.successors(str(pharma_sctid))\n",
    "pharma_descendants = nx.descendants(DG, str(pharma_sctid))"
   ]
  },
  {
   "cell_type": "code",
   "execution_count": 17,
   "metadata": {
    "collapsed": false
   },
   "outputs": [],
   "source": [
    "vtms = []\n",
    "for amp_vmp_map in amp_drugs_and_their_vmp_parents:\n",
    "    # parents_of_vmp = DG.predecessors(amp_vmp_map['corresponding_vmp'])\n",
    "    ancestors_of_vmp = nx.ancestors(DG, amp_vmp_map['corresponding_vmp'])\n",
    "    for ancestor in ancestors_of_vmp:\n",
    "        if ancestor in vtm_successors and not ancestor in dmd_hierarchy_identifiers:\n",
    "            vtms.append({'amp': amp_vmp_map['amp'], 'vmp': amp_vmp_map['corresponding_vmp'], 'vtm': ancestor})"
   ]
  },
  {
   "cell_type": "code",
   "execution_count": null,
   "metadata": {
    "collapsed": false
   },
   "outputs": [],
   "source": [
    "print(len(vtms))"
   ]
  },
  {
   "cell_type": "code",
   "execution_count": 18,
   "metadata": {
    "collapsed": true
   },
   "outputs": [],
   "source": [
    "full_dmd = []\n",
    "\n",
    "for amp_vmp_vtm_map in vtms:\n",
    "    ancestors_of_vtm = nx.ancestors(DG, amp_vmp_vtm_map['vtm'])\n",
    "    for ancestor in ancestors_of_vtm:\n",
    "        if ancestor in pharma_successors:\n",
    "            full_dmd.append({'amp': amp_vmp_vtm_map['amp'], \n",
    "                             'vmp': amp_vmp_vtm_map['vmp'], \n",
    "                             'vtm': amp_vmp_vtm_map['vtm'], \n",
    "                             'drug_class': ancestor})"
   ]
  },
  {
   "cell_type": "code",
   "execution_count": null,
   "metadata": {
    "collapsed": true
   },
   "outputs": [],
   "source": [
    "full_dmd_with_class_hops = []\n",
    "\n",
    "for amp_vmp_vtm_map in vtms[:]:\n",
    "    ancestors_of_vtm = nx.ancestors(DG, amp_vmp_vtm_map['vtm'])\n",
    "    non_dmd_vtm_ancestors = set(ancestors_of_vtm).intersection(pharma_descendants)\n",
    "    print()\n",
    "    for ancestor in ancestors_of_vtm:\n",
    "        if ancestor not in pharma_successors and not in \n",
    "        if ancestor in pharma_successors:\n",
    "            full_dmd_with_class_hops.append({'amp': amp_vmp_vtm_map['amp'], \n",
    "                             'vmp': amp_vmp_vtm_map['vmp'], \n",
    "                             'vtm': amp_vmp_vtm_map['vtm'], \n",
    "                             'drug_class': ancestor})"
   ]
  },
  {
   "cell_type": "code",
   "execution_count": null,
   "metadata": {
    "collapsed": false
   },
   "outputs": [],
   "source": [
    "print(full_dmd[0])\n",
    "print([key for key in full_dmd[0].keys()])\n",
    "print([int(val) for val in full_dmd[0].values()])"
   ]
  },
  {
   "cell_type": "code",
   "execution_count": null,
   "metadata": {
    "collapsed": false
   },
   "outputs": [],
   "source": [
    "with open('dmd.json') as dmd_file:\n",
    "    dmd_name_data = load(dmd_file)"
   ]
  },
  {
   "cell_type": "code",
   "execution_count": 20,
   "metadata": {
    "collapsed": false
   },
   "outputs": [
    {
     "data": {
      "text/plain": [
       "{'10363601000001109': 'UK product (product)',\n",
       " '319734006': 'Warfarin sodium 3mg tablet (product)',\n",
       " '48603004': 'Warfarin (product)',\n",
       " '508311000001104': 'Warfarin 3mg tablets (Teva UK Ltd)'}"
      ]
     },
     "execution_count": 20,
     "metadata": {},
     "output_type": "execute_result"
    }
   ],
   "source": [
    "concept_by_id_list_api = \"http://snomedct-terminology-server-2016-07-04.slade360emr.com/terminology/concept_list_by_id/\"\n",
    "headers = {'Expect': '100-Continue'}\n",
    "def get_concept_term_by_id_list(id_list):\n",
    "    ids = ','.join(id_list)\n",
    "    try:\n",
    "        response = requests.post(concept_by_id_list_api,data={'sctid_list': ids}).text\n",
    "    except Exception as e:\n",
    "        print(\"Request failed at id {}. Retrying...\".format(id_list))\n",
    "        return get_concept_term_by_id_list(id_list)\n",
    "    try:\n",
    "        data = loads(response)\n",
    "    except Exception as e:\n",
    "        print(response)\n",
    "    return data\n",
    "\n",
    "get_concept_term_by_id_list([val for val in full_dmd[0].values()])"
   ]
  },
  {
   "cell_type": "code",
   "execution_count": null,
   "metadata": {
    "collapsed": false
   },
   "outputs": [],
   "source": [
    "# extract all of the ids from the dict, into a list, \n",
    "# then get their preferred terms from the SNOMED CT Termserver API\n",
    "dmd_values = [list(obj.values()) for obj in full_dmd]\n",
    "dmd_id_set=set(list(chain(chain(*dmd_values))))\n",
    "print(\"number of sctids in this hierarchy: {}\".format(len(dmd_id_set)))\n",
    "dmd_name_data=get_concept_term_by_id_list(list(dmd_id_set))"
   ]
  },
  {
   "cell_type": "code",
   "execution_count": null,
   "metadata": {
    "collapsed": false
   },
   "outputs": [],
   "source": [
    "dmd_data_flattened = []\n",
    "for dmd_datum in full_dmd:\n",
    "    dmd_data_flattened.append(\n",
    "    {'drug_class': dmd_name_data[dmd_datum['drug_class']] + ' | {}'.format(dmd_datum['drug_class']),\n",
    "     'amp' : dmd_name_data[dmd_datum['amp']]  + ' | {}'.format(dmd_datum['amp']),\n",
    "     'vmp': dmd_name_data[dmd_datum['vmp']] + ' | {}'.format(dmd_datum['vmp']),\n",
    "     'vtm': dmd_name_data[dmd_datum['vtm']] + ' | {}'.format(dmd_datum['vtm'])\n",
    "     })"
   ]
  },
  {
   "cell_type": "code",
   "execution_count": null,
   "metadata": {
    "collapsed": false
   },
   "outputs": [],
   "source": [
    "# check consistency of the flattened dm+d data, \n",
    "# by confirming that the sctid concatenated with the pipe is correct for the preferred term,\n",
    "# for any given row\n",
    "dmd_data_flattened[0]"
   ]
  },
  {
   "cell_type": "code",
   "execution_count": null,
   "metadata": {
    "collapsed": false
   },
   "outputs": [],
   "source": [
    "# i save the dmd data to a file in case anything goes wrong (i.e. i write a destructive function that modifies this data)\n",
    "with open('dmd_data_flattened.json', 'w') as f:\n",
    "    dump(dmd_data_flattened, f)\n",
    "    "
   ]
  },
  {
   "cell_type": "code",
   "execution_count": null,
   "metadata": {
    "collapsed": false
   },
   "outputs": [],
   "source": [
    "columns_map = map(lambda x: x.keys(), dmd_data_flattened)\n",
    "columns_list = chain.from_iterable([list(list(column)) for column in columns_map])\n",
    "columns=list(set(list(columns_list)))\n",
    "columns = ['amp', 'vmp', 'vtm', 'drug_class']"
   ]
  },
  {
   "cell_type": "code",
   "execution_count": null,
   "metadata": {
    "collapsed": false
   },
   "outputs": [],
   "source": [
    "# Confirm whether a given row has the correct structure. \n",
    "# If the results of line 2 match (by column) those of line 1, we're good\n",
    "print(columns)\n",
    "list(map(lambda x: dmd_data_flattened[0].get(x,\"\"),columns))"
   ]
  },
  {
   "cell_type": "code",
   "execution_count": null,
   "metadata": {
    "collapsed": true
   },
   "outputs": [],
   "source": [
    "# write data to csv file\n",
    "import csv\n",
    "with open('dmd_data_full.csv', 'w') as f:\n",
    "    csv_writer = csv.writer(f)\n",
    "    csv_writer.writerow(columns)\n",
    "    for input_row in dmd_data_flattened:\n",
    "        csv_writer.writerow(list(map(lambda x: input_row.get(x,\"\"),columns)))"
   ]
  },
  {
   "cell_type": "markdown",
   "metadata": {
    "collapsed": true
   },
   "source": [
    "# Teaching Case: DM+D dimensional table that includes AMPP and VMPP\n",
    "+ This will be tricker than the above case, due to dm+d's hierarchy. See the image:\n",
    "\n",
    "![dm+d hierarchy](dmd_hierarchy_with_reltypes.png \"DM+D Hierarchy With relationship type\")"
   ]
  },
  {
   "cell_type": "markdown",
   "metadata": {},
   "source": [
    "### The predecessors of AMPP (Actual Medicinal Product Pack)"
   ]
  },
  {
   "cell_type": "code",
   "execution_count": 21,
   "metadata": {
    "collapsed": true
   },
   "outputs": [],
   "source": [
    "# relationship type id for the \"Has VMP\" relationship type, whose destination id is always a vmp successor.\n",
    "has_vmp_rel_type_id=10362601000001103"
   ]
  },
  {
   "cell_type": "code",
   "execution_count": 22,
   "metadata": {
    "collapsed": true
   },
   "outputs": [],
   "source": [
    "# relationship type id for the \"Has AMP\" relationship type, whose destination id is always an amp successor.\n",
    "has_amp_rel_type_id=10362701000001108"
   ]
  },
  {
   "cell_type": "code",
   "execution_count": 23,
   "metadata": {
    "collapsed": true
   },
   "outputs": [],
   "source": [
    "destination_ids_api = \"http://snomedct-terminology-server-2016-07-04.slade360emr.com/terminology/relationships/destination_by_type_id/{}\"\n",
    "def get_destination_id_by_reltype(type_id):\n",
    "    print(type_id)\n",
    "    try:\n",
    "        response = requests.get(destination_ids_api.format(type_id)).text\n",
    "    except Exception as e:\n",
    "        print(\"Request failed. Retrying...\".format(type_id))\n",
    "        print(response)\n",
    "    try:\n",
    "        data = loads(response)\n",
    "    except Exception as e:\n",
    "        print(response)\n",
    "    return data"
   ]
  },
  {
   "cell_type": "code",
   "execution_count": 24,
   "metadata": {
    "collapsed": true
   },
   "outputs": [],
   "source": [
    "# ampp successors are drugs under the 'AMPP (Actual medicinal product pack)' sub-hierarchy of DM+D\n",
    "ampp_successors = DG.successors(str(ampp))"
   ]
  },
  {
   "cell_type": "code",
   "execution_count": 25,
   "metadata": {
    "collapsed": false
   },
   "outputs": [
    {
     "data": {
      "text/plain": [
       "True"
      ]
     },
     "execution_count": 25,
     "metadata": {},
     "output_type": "execute_result"
    }
   ],
   "source": [
    "'1329211000001109' in ampp_successors"
   ]
  },
  {
   "cell_type": "code",
   "execution_count": 26,
   "metadata": {
    "collapsed": false
   },
   "outputs": [
    {
     "name": "stdout",
     "output_type": "stream",
     "text": [
      "10362701000001108\n"
     ]
    }
   ],
   "source": [
    "# This returns a large dict, with the format\n",
    "# {'ampp_drug_code_1':'amp_drug_code_1','ampp_drug_code_2':'amp_drug_code_2',...}\n",
    "# The ampp drug points to its amp parent.\n",
    "ampp_amp_map = get_destination_id_by_reltype(has_amp_rel_type_id)"
   ]
  },
  {
   "cell_type": "code",
   "execution_count": 27,
   "metadata": {
    "collapsed": false
   },
   "outputs": [],
   "source": [
    "non_dmd_predecessors_of_ampp_drugs = []\n",
    "for ampp in ampp_successors:\n",
    "    non_dmd_predecessors_of_ampp_drugs.append(\n",
    "        {\n",
    "            'ampp': ampp,\n",
    "            'amp': ampp_amp_map[ampp]\n",
    "        }\n",
    "    )"
   ]
  },
  {
   "cell_type": "code",
   "execution_count": 28,
   "metadata": {
    "collapsed": false
   },
   "outputs": [
    {
     "data": {
      "text/plain": [
       "{'amp': '17787911000001101', 'ampp': '17788111000001103'}"
      ]
     },
     "execution_count": 28,
     "metadata": {},
     "output_type": "execute_result"
    }
   ],
   "source": [
    "non_dmd_predecessors_of_ampp_drugs[0]"
   ]
  },
  {
   "cell_type": "markdown",
   "metadata": {},
   "source": [
    "### The VMP predecessors of vmpp"
   ]
  },
  {
   "cell_type": "code",
   "execution_count": 29,
   "metadata": {
    "collapsed": false
   },
   "outputs": [
    {
     "name": "stdout",
     "output_type": "stream",
     "text": [
      "8653601000001108\n"
     ]
    }
   ],
   "source": [
    "# vmpp successors are drugs under the 'VMPP (Virtual medicinal product pack)' sub-hierarchy of DM+D\n",
    "print(vmpp)\n",
    "vmpp_successors = DG.successors(str(vmpp))"
   ]
  },
  {
   "cell_type": "code",
   "execution_count": 30,
   "metadata": {
    "collapsed": false
   },
   "outputs": [
    {
     "name": "stdout",
     "output_type": "stream",
     "text": [
      "10362601000001103\n"
     ]
    }
   ],
   "source": [
    "# This returns a large dict, with the format\n",
    "# {'vmpp_drug_code_1':'vmp_drug_code_1','vmpp_drug_code_2':'vmp_drug_code_2',...}\n",
    "# The vmpp drug points to its vmp parent.\n",
    "vmpp_vmp_map = get_destination_id_by_reltype(has_vmp_rel_type_id)"
   ]
  },
  {
   "cell_type": "code",
   "execution_count": 31,
   "metadata": {
    "collapsed": false
   },
   "outputs": [
    {
     "data": {
      "text/plain": [
       "'4715911000001102'"
      ]
     },
     "execution_count": 31,
     "metadata": {},
     "output_type": "execute_result"
    }
   ],
   "source": [
    "vmpp_successors[0]"
   ]
  },
  {
   "cell_type": "code",
   "execution_count": null,
   "metadata": {
    "collapsed": false
   },
   "outputs": [],
   "source": [
    "len(vmpp_vmp_map.keys())"
   ]
  },
  {
   "cell_type": "code",
   "execution_count": 32,
   "metadata": {
    "collapsed": false
   },
   "outputs": [
    {
     "data": {
      "text/plain": [
       "True"
      ]
     },
     "execution_count": 32,
     "metadata": {},
     "output_type": "execute_result"
    }
   ],
   "source": [
    "list(vmpp_vmp_map.keys())[0] in vmpp_successors"
   ]
  },
  {
   "cell_type": "code",
   "execution_count": 33,
   "metadata": {
    "collapsed": false
   },
   "outputs": [
    {
     "data": {
      "text/plain": [
       "True"
      ]
     },
     "execution_count": 33,
     "metadata": {},
     "output_type": "execute_result"
    }
   ],
   "source": [
    "vmpp_vmp_map['10235211000001109'] == '10246111000001108'"
   ]
  },
  {
   "cell_type": "code",
   "execution_count": 34,
   "metadata": {
    "collapsed": false
   },
   "outputs": [],
   "source": [
    "non_dmd_predecessors_of_vmpp = []\n",
    "for vmpp in vmpp_successors:\n",
    "    non_dmd_predecessors_of_vmpp.append(\n",
    "    {\n",
    "            'vmpp': vmpp,\n",
    "            'vmp': vmpp_vmp_map[vmpp]\n",
    "    }\n",
    "    )"
   ]
  },
  {
   "cell_type": "code",
   "execution_count": null,
   "metadata": {
    "collapsed": false
   },
   "outputs": [],
   "source": [
    "non_dmd_predecessors_of_vmpp[0]"
   ]
  },
  {
   "cell_type": "code",
   "execution_count": 35,
   "metadata": {
    "collapsed": false,
    "scrolled": true
   },
   "outputs": [],
   "source": [
    "ampp_drugs_with_vtms = []\n",
    "for ampp in non_dmd_predecessors_of_ampp_drugs:\n",
    "    for vtm in vtms:\n",
    "        if vtm['amp'] == ampp['amp']:\n",
    "            ampp_drugs_with_vtms.append(\n",
    "                {'amp': ampp['amp'], \n",
    "                 'ampp': ampp['ampp'], \n",
    "                 'vmp': vtm['vmp'], \n",
    "                 'vtm': vtm['vtm']\n",
    "                }\n",
    "            )"
   ]
  },
  {
   "cell_type": "code",
   "execution_count": 36,
   "metadata": {
    "collapsed": false
   },
   "outputs": [
    {
     "data": {
      "text/plain": [
       "{'amp': '23599111000001103',\n",
       " 'ampp': '23599211000001109',\n",
       " 'vmp': '318672001',\n",
       " 'vtm': '84078002'}"
      ]
     },
     "execution_count": 36,
     "metadata": {},
     "output_type": "execute_result"
    }
   ],
   "source": [
    "ampp_drugs_with_vtms[10]"
   ]
  },
  {
   "cell_type": "code",
   "execution_count": 37,
   "metadata": {
    "collapsed": false
   },
   "outputs": [],
   "source": [
    "vmpp_drugs_with_ampps = []\n",
    "for vmpp in non_dmd_predecessors_of_vmpp:\n",
    "    for ampp in ampp_drugs_with_vtms:\n",
    "        if ampp['vmp'] == vmpp['vmp']:\n",
    "            vmpp_drugs_with_ampps.append({'amp': ampp['amp'], 'ampp': ampp['ampp'], 'vtm': ampp['vtm'], 'vmp': vmpp['vmp'], 'vmpp': vmpp['vmpp']})"
   ]
  },
  {
   "cell_type": "code",
   "execution_count": 38,
   "metadata": {
    "collapsed": false
   },
   "outputs": [
    {
     "data": {
      "text/plain": [
       "{'amp': '4716611000001103',\n",
       " 'ampp': '4716711000001107',\n",
       " 'vmp': '334216004',\n",
       " 'vmpp': '4715911000001102',\n",
       " 'vtm': '82573000'}"
      ]
     },
     "execution_count": 38,
     "metadata": {},
     "output_type": "execute_result"
    }
   ],
   "source": [
    "vmpp_drugs_with_ampps[0]"
   ]
  },
  {
   "cell_type": "code",
   "execution_count": 41,
   "metadata": {
    "collapsed": false,
    "scrolled": false
   },
   "outputs": [],
   "source": [
    "full_vmpp_dmd_with_drug_class = []\n",
    "\n",
    "for ampp_vmpp_amp_vmp_vtm_map in vmpp_drugs_with_ampps:\n",
    "    ancestors_of_vtm = nx.ancestors(DG, ampp_vmpp_amp_vmp_vtm_map['vtm'])\n",
    "    for drug_class in ancestors_of_vtm:\n",
    "        dmd_row = {}\n",
    "        dmd_row.update({'amp': ampp_vmpp_amp_vmp_vtm_map['amp'],\n",
    "                        'ampp': ampp_vmpp_amp_vmp_vtm_map['ampp'],\n",
    "                        'vmp': ampp_vmpp_amp_vmp_vtm_map['vmp'],\n",
    "                        'vmpp': ampp_vmpp_amp_vmp_vtm_map['vmpp'],\n",
    "                        'vtm': ampp_vmpp_amp_vmp_vtm_map['vtm']})\n",
    "        if drug_class in pharma_successors:\n",
    "            dmd_row.update({'drug_class': drug_class})\n",
    "            full_vmpp_dmd_with_drug_class.append(dmd_row)"
   ]
  },
  {
   "cell_type": "code",
   "execution_count": 121,
   "metadata": {
    "collapsed": false
   },
   "outputs": [
    {
     "data": {
      "text/plain": [
       "{'amp': '4716611000001103',\n",
       " 'ampp': '4716711000001107',\n",
       " 'drug_class': '10363601000001109',\n",
       " 'vmp': '334216004',\n",
       " 'vmpp': '4715911000001102',\n",
       " 'vtm': '82573000'}"
      ]
     },
     "execution_count": 121,
     "metadata": {},
     "output_type": "execute_result"
    }
   ],
   "source": [
    "full_vmpp_dmd_with_drug_class[0]"
   ]
  },
  {
   "cell_type": "code",
   "execution_count": 48,
   "metadata": {
    "collapsed": true
   },
   "outputs": [],
   "source": [
    "drug_class_descendants = {x: nx.descendants(DG, x) for x in set(map(lambda x: x.get('drug_class'), full_vmpp_dmd_with_drug_class))}"
   ]
  },
  {
   "cell_type": "code",
   "execution_count": 66,
   "metadata": {
    "collapsed": false
   },
   "outputs": [],
   "source": [
    "full_dmd_with_all_class_hops = []\n",
    "for row in full_vmpp_dmd_with_drug_class:\n",
    "    dmd_row = {}\n",
    "    dmd_row.update(row)\n",
    "    ancestors_of_vtm = nx.ancestors(DG, row['vtm'])\n",
    "    descendants_of_drug_class = drug_class_descendants[row['drug_class']]\n",
    "    drug_class_vtm_hops = set(descendants_of_drug_class).intersection(ancestors_of_vtm)\n",
    "    class_hops = list(set(drug_class_vtm_hops).difference(dmd_hierarchy_identifiers))\n",
    "    class_hops_dict = {'class_{}'.format(class_hops.index(drug) + 1): drug for drug in class_hops}\n",
    "    dmd_row.update(class_hops_dict)\n",
    "    full_dmd_with_all_class_hops.append(dmd_row)"
   ]
  },
  {
   "cell_type": "code",
   "execution_count": 71,
   "metadata": {
    "collapsed": false
   },
   "outputs": [
    {
     "name": "stdout",
     "output_type": "stream",
     "text": [
      "number of sctids in this hierarchy: 131882\n"
     ]
    }
   ],
   "source": [
    "# extract all of the ids from the dict, into a list, \n",
    "# then get their preferred terms from the SNOMED CT Termserver API\n",
    "vmpp_dmd_values = [list(obj.values()) for obj in full_dmd_with_all_class_hops]\n",
    "vmpp_dmd_id_set=set(list(chain(chain(*vmpp_dmd_values))))\n",
    "print(\"number of sctids in this hierarchy: {}\".format(len(vmpp_dmd_id_set)))\n",
    "vmpp_dmd_name_data=get_concept_term_by_id_list(list(vmpp_dmd_id_set))"
   ]
  },
  {
   "cell_type": "markdown",
   "metadata": {},
   "source": [
    "#### Regexp test cases. In order to extract company names, we'll need to parse all of these strings and get (only) the company name.\n",
    "If the regex (or function) created works on all these strings, then the company name has been correctly extracted."
   ]
  },
  {
   "cell_type": "code",
   "execution_count": 119,
   "metadata": {
    "collapsed": true
   },
   "outputs": [],
   "source": [
    "string_1 = \"Ethanol 100% solution for injection 2ml ampoules (Alliance Healthcare (Distribution) Ltd)\"\n",
    "string_2 = \"Manusept antibacterial hand rub (Medlock Medical) (product)\"\n",
    "string_3 = \"Rapiscan 400micrograms/5ml solution for injection vials (Rapidscan Pharma Solutions EU Ltd) (product)\"\n",
    "string_4 = 'Co-codamol 8mg/500mg tablets (Almus Pharmaceuticals Ltd)'\n",
    "string_5 = 'Acular 0.5% eye drops (PI) (Waymade Ltd) (product)'\n",
    "string_6 = 'Minijet lidocaine 100mg/10ml (1%) solution for injection pre-filled syringes (Celltech Pharmaceuticals Ltd) (product)'\n",
    "terms = [string_1, string_2, string_3, string_4, string_5, string_6]"
   ]
  },
  {
   "cell_type": "code",
   "execution_count": 117,
   "metadata": {
    "collapsed": false
   },
   "outputs": [],
   "source": [
    "company_name_expression=r'(\\(([^)]+)\\)([\\s\\w+\\)]+|))'\n",
    "def extract_company_name_from_term(term):\n",
    "    term_with_pi_extracted = term.split('(PI)')\n",
    "    term_length = len(term_with_pi_extracted)\n",
    "    if term_length > 1:\n",
    "        match = re.search(company_name_expression, term_with_pi_extracted[1])\n",
    "        try:\n",
    "            return match.group(0).strip()[1:-1]\n",
    "        except AttributeError:\n",
    "            print(\">>>> {}\".format(term_with_pi_extracted))                                                             \n",
    "    elif term_length == 1:\n",
    "        percentage_values = re.split(r'\\(\\d{1,3}%\\)', term_with_pi_extracted[0])\n",
    "        if len(percentage_values) > 1:\n",
    "            match = re.search(company_name_expression, percentage_values[1])\n",
    "            try:\n",
    "                return match.group(0).strip()[1:-1]\n",
    "            except AttributeError:\n",
    "                print(\"$$$$$ {}\".format(percentage_values))\n",
    "        elif len(percentage_values) == 1:\n",
    "            match = re.search(company_name_expression, percentage_values[0])\n",
    "            try:\n",
    "                return match.group(0).strip()[1:-1]\n",
    "            except AttributeError:\n",
    "                print(\"++++ {}\".format(percentage_values))"
   ]
  },
  {
   "cell_type": "code",
   "execution_count": 137,
   "metadata": {
    "collapsed": false
   },
   "outputs": [
    {
     "data": {
      "text/plain": [
       "['Alliance Healthcare (Distribution) Ltd: Ethanol 100% solution for injection 2ml ampoules (Alliance Healthcare (Distribution) Ltd)',\n",
       " 'Medlock Medical: Manusept antibacterial hand rub (Medlock Medical) (product)',\n",
       " 'Rapidscan Pharma Solutions EU Ltd: Rapiscan 400micrograms/5ml solution for injection vials (Rapidscan Pharma Solutions EU Ltd) (product)',\n",
       " 'Almus Pharmaceuticals Ltd: Co-codamol 8mg/500mg tablets (Almus Pharmaceuticals Ltd)',\n",
       " 'Waymade Ltd: Acular 0.5% eye drops (PI) (Waymade Ltd) (product)',\n",
       " 'Celltech Pharmaceuticals Ltd: Minijet lidocaine 100mg/10ml (1%) solution for injection pre-filled syringes (Celltech Pharmaceuticals Ltd) (product)']"
      ]
     },
     "execution_count": 137,
     "metadata": {},
     "output_type": "execute_result"
    }
   ],
   "source": [
    "list(map(lambda x: '{}: {}'.format(extract_company_name_from_term(x), x), terms))"
   ]
  },
  {
   "cell_type": "code",
   "execution_count": 105,
   "metadata": {
    "collapsed": false
   },
   "outputs": [],
   "source": [
    "vmpp_dmd_data_flattened = []\n",
    "for dmd_datum in full_dmd_with_all_class_hops:\n",
    "    row = {}\n",
    "    row.update({key: \n",
    "                vmpp_dmd_name_data[dmd_datum[key]] + ' | {}'.format(dmd_datum[key]) \n",
    "                for key in dmd_datum.keys()})\n",
    "\n",
    "    row.update({'company_name': extract_company_name_from_term(row['amp'])})\n",
    "    vmpp_dmd_data_flattened.append(row)"
   ]
  },
  {
   "cell_type": "code",
   "execution_count": 132,
   "metadata": {
    "collapsed": false
   },
   "outputs": [
    {
     "data": {
      "text/plain": [
       "{'amp': 'Paracetamol 500mg / Dihydrocodeine 20mg tablets (Alliance Healthcare (Distribution) Ltd) (product) | 20363711000001101',\n",
       " 'ampp': 'Paracetamol 500mg / Dihydrocodeine 20mg tablets (Alliance Healthcare (Distribution) Ltd) 56 tablet | 20363811000001109',\n",
       " 'company_name': 'Alliance Healthcare (Distribution) Ltd',\n",
       " 'drug_class': 'UK product (product) | 10363601000001109',\n",
       " 'vmp': 'Acetaminophen + dihydrocodeine 500mg/20mg tablet (product) | 322367008',\n",
       " 'vmpp': 'Paracetamol 500mg / Dihydrocodeine 20mg tablets 56 tablet (product) | 1211411000001108',\n",
       " 'vtm': 'Paracetamol | 90332006'}"
      ]
     },
     "execution_count": 132,
     "metadata": {},
     "output_type": "execute_result"
    }
   ],
   "source": [
    "vmpp_dmd_data_flattened[1000]"
   ]
  },
  {
   "cell_type": "code",
   "execution_count": 107,
   "metadata": {
    "collapsed": false
   },
   "outputs": [],
   "source": [
    "columns_map = map(lambda x: x.keys(), vmpp_dmd_data_flattened)\n",
    "columns_list = chain.from_iterable([list(list(column)) for column in columns_map])\n",
    "columns=list(set(list(columns_list)))\n",
    "\n",
    "# write data to csv file\n",
    "import csv\n",
    "with open('dmd_data_ampp_level_with_company_names_and_class_hops.csv', 'w') as f:\n",
    "    csv_writer = csv.writer(f)\n",
    "    csv_writer.writerow(columns)\n",
    "    for input_row in vmpp_dmd_data_flattened:\n",
    "        csv_writer.writerow(list(map(lambda x: input_row.get(x,\"\"),columns)))"
   ]
  },
  {
   "cell_type": "markdown",
   "metadata": {
    "collapsed": true
   },
   "source": [
    "### Has dose form"
   ]
  },
  {
   "cell_type": "code",
   "execution_count": null,
   "metadata": {
    "collapsed": true
   },
   "outputs": [],
   "source": [
    "has_dose_form_relationship_type_id=411116001"
   ]
  },
  {
   "cell_type": "code",
   "execution_count": null,
   "metadata": {
    "collapsed": false
   },
   "outputs": [],
   "source": [
    "has_dose_form_destination_ids=get_destination_id_by_reltype(has_dose_form_relationship_type_id)"
   ]
  },
  {
   "cell_type": "code",
   "execution_count": null,
   "metadata": {
    "collapsed": false
   },
   "outputs": [],
   "source": [
    "set(map(lambda x: int(x), list(has_dose_form_destination_ids.keys())[1:100]))"
   ]
  },
  {
   "cell_type": "code",
   "execution_count": null,
   "metadata": {
    "collapsed": true
   },
   "outputs": [],
   "source": []
  }
 ],
 "metadata": {
  "kernelspec": {
   "display_name": "Django Shell-Plus",
   "language": "python",
   "name": "django_extensions"
  },
  "language_info": {
   "codemirror_mode": {
    "name": "ipython",
    "version": 3
   },
   "file_extension": ".py",
   "mimetype": "text/x-python",
   "name": "python",
   "nbconvert_exporter": "python",
   "pygments_lexer": "ipython3",
   "version": "3.4.3"
  }
 },
 "nbformat": 4,
 "nbformat_minor": 0
}
